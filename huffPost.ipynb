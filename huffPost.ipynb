{
 "metadata": {
  "name": ""
 },
 "nbformat": 3,
 "nbformat_minor": 0,
 "worksheets": [
  {
   "cells": [
    {
     "cell_type": "code",
     "collapsed": false,
     "input": [
      "from pollster import Pollster\n",
      "ps = Pollster()"
     ],
     "language": "python",
     "metadata": {},
     "outputs": [],
     "prompt_number": 18
    },
    {
     "cell_type": "code",
     "collapsed": false,
     "input": [
      "ps.charts(topic='2016-president')"
     ],
     "language": "python",
     "metadata": {},
     "outputs": [
      {
       "output_type": "stream",
       "stream": "stdout",
       "text": [
        "http://elections.huffingtonpost.com/pollster/api/charts?topic=2016-president\n"
       ]
      },
      {
       "metadata": {},
       "output_type": "pyout",
       "prompt_number": 20,
       "text": [
        "[<Chart: 2016 General Election: Bush vs. Clinton>,\n",
        " <Chart: 2016 General Election: Christie vs. Clinton>,\n",
        " <Chart: 2016 General Election: Christie vs. Cuomo>,\n",
        " <Chart: 2016 General Election: Rubio vs. Clinton>,\n",
        " <Chart: 2016 General Election: Rubio vs. Cuomo>,\n",
        " <Chart: 2016 General Election: Ryan vs. Clinton>,\n",
        " <Chart: 2016 General Election: Ryan vs. Cuomo>,\n",
        " <Chart: 2016 General Election: Paul vs. Clinton>,\n",
        " <Chart: 2016 General Election: Cruz vs. Clinton>,\n",
        " <Chart: 2016 General Election: Huckabee vs. Clinton>,\n",
        " <Chart: 2016 General Election: Trump vs. Clinton>,\n",
        " <Chart: 2016 General Election: Carson vs. Clinton>,\n",
        " <Chart: 2016 General Election: Fiorina vs. Clinton>,\n",
        " <Chart: 2016 General Election: Trump vs. Sanders>]"
       ]
      }
     ],
     "prompt_number": 20
    },
    {
     "cell_type": "code",
     "collapsed": false,
     "input": [],
     "language": "python",
     "metadata": {},
     "outputs": []
    }
   ],
   "metadata": {}
  }
 ]
}