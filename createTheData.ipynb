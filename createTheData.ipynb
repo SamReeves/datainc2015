{
 "metadata": {
  "name": ""
 },
 "nbformat": 3,
 "nbformat_minor": 0,
 "worksheets": [
  {
   "cells": [
    {
     "cell_type": "code",
     "collapsed": false,
     "input": [
      "import numpy as np\n",
      "import json\n",
      "\n",
      "\n",
      "def walk():     ####   Take random(ish) steps\n",
      "       \n",
      "    x,y = 0,0\n",
      "    pace = np.random.choice([True,False])\n",
      "    \n",
      "    if pace == True:\n",
      "        leftRight = np.random.choice([True, False])\n",
      "        \n",
      "        if leftRight == True:\n",
      "            x += 1\n",
      "        else:\n",
      "            x -= 1\n",
      "                \n",
      "    else:\n",
      "        upDown = np.random.choice([True, False])\n",
      "        \n",
      "        if upDown == True:\n",
      "            y += 1\n",
      "        else:\n",
      "            y -= 1\n",
      "    \n",
      "    return (x,y)\n",
      "\n",
      "\n",
      "def simulate(steps, trials):          #####  Run a simulation and output a JSON file. Takes n steps and trials.\n",
      "    bigBook = []\n",
      "    \n",
      "    for trial in xrange(trials):\n",
      "        littleBook = []\n",
      "        \n",
      "        for step in xrange(steps):\n",
      "            littleBook.append(walk())\n",
      "            \n",
      "        bigBook.append(littleBook)\n",
      "    \n",
      "    \n",
      "    with open('bank60.json', 'wb') as outfile:\n",
      "    \n",
      "        json.dump(bigBook, outfile)\n",
      "    \n",
      "simulate(60,500000)"
     ],
     "language": "python",
     "metadata": {},
     "outputs": [],
     "prompt_number": 21
    },
    {
     "cell_type": "code",
     "collapsed": false,
     "input": [],
     "language": "python",
     "metadata": {},
     "outputs": []
    }
   ],
   "metadata": {}
  }
 ]
}