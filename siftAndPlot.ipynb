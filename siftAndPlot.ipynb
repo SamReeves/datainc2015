{
 "metadata": {
  "name": ""
 },
 "nbformat": 3,
 "nbformat_minor": 0,
 "worksheets": [
  {
   "cells": [
    {
     "cell_type": "code",
     "collapsed": false,
     "input": [
      "import pandas as pd\n",
      "import json\n",
      "import numpy as np\n",
      "from matplotlib import pyplot as plt\n",
      "%matplotlib inline\n",
      "from pandas import set_option\n",
      "set_option('display.max_rows',20)\n",
      "LARGE_FIGSIZE = (12,8)\n",
      "\n",
      "\n",
      "steps = 30      #####  input number of steps per trial whoooops! #####\n",
      "\n",
      "\n",
      "filename = str('bank'+ str(steps)+ '.json')\n",
      "king = pd.read_json(filename)\n",
      "\n",
      "\n",
      "def finals():\n",
      "    locSet = []\n",
      "    rowNum = 0\n",
      "    \n",
      "    for trial in xrange(499999):\n",
      "        rowSum = [0,0]\n",
      "        n = 0\n",
      "        \n",
      "        for step in xrange(steps-1):\n",
      "            step = king.iloc[rowNum,n]\n",
      "            rowSum[0] += step[0]\n",
      "            rowSum[1] += step[1]\n",
      "            n +=1\n",
      "            \n",
      "        locSet.append(rowSum)\n",
      "        rowNum +=1\n",
      "        \n",
      "    return locSet\n",
      "\n",
      "\n",
      "finalLocations = finals()\n",
      "F_L = pd.DataFrame(finalLocations, columns = list('xy'))"
     ],
     "language": "python",
     "metadata": {},
     "outputs": [],
     "prompt_number": 3
    },
    {
     "cell_type": "code",
     "collapsed": false,
     "input": [
      "plt.hexbin(F_L['x'], F_L['y'], C = None, gridsize = 40, bins = 1000,\n",
      "       xscale = 'linear', yscale = 'linear', marginals=False)\n",
      "plt.show()"
     ],
     "language": "python",
     "metadata": {},
     "outputs": [],
     "prompt_number": 10
    },
    {
     "cell_type": "code",
     "collapsed": false,
     "input": [
      "plt.hist(F_L['y'], bins=10, range=None, normed=False, weights=None, \n",
      "         cumulative=False, bottom=None, histtype='bar', align='mid', orientation='vertical')\n",
      "plt.show()"
     ],
     "language": "python",
     "metadata": {},
     "outputs": [],
     "prompt_number": 11
    },
    {
     "cell_type": "code",
     "collapsed": false,
     "input": [],
     "language": "python",
     "metadata": {},
     "outputs": []
    }
   ],
   "metadata": {}
  }
 ]
}