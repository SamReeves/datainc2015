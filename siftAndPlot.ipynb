{
 "metadata": {
  "name": ""
 },
 "nbformat": 3,
 "nbformat_minor": 0,
 "worksheets": [
  {
   "cells": [
    {
     "cell_type": "code",
     "collapsed": false,
     "input": [
      "import pandas as pd\n",
      "import math\n",
      "import json\n",
      "import numpy as np\n",
      "from matplotlib import pyplot as plt\n",
      "from pandas import set_option\n",
      "set_option('display.max_rows',12)\n",
      "LARGE_FIGSIZE = (12,8)\n",
      "\n",
      "steps = 10      #####  input number of steps per trial whoooops! #####"
     ],
     "language": "python",
     "metadata": {},
     "outputs": [],
     "prompt_number": 2
    },
    {
     "cell_type": "code",
     "collapsed": false,
     "input": [
      "filename = str('bank'+ str(steps)+ '.json')\n",
      "king = pd.read_json(filename)"
     ],
     "language": "python",
     "metadata": {},
     "outputs": [],
     "prompt_number": 2
    },
    {
     "cell_type": "code",
     "collapsed": false,
     "input": [
      "def finals():      ######  Return a list of final locations after the walk\n",
      "    locSet = []\n",
      "    rowNum = 0\n",
      "    \n",
      "    for trial in xrange(500000):\n",
      "        rowSum = [0,0]\n",
      "        n = 0\n",
      "        \n",
      "        for step in xrange(steps-1):\n",
      "            step = king.iloc[rowNum,n]\n",
      "            rowSum[0] += step[0]\n",
      "            rowSum[1] += step[1]\n",
      "            n +=1\n",
      "            \n",
      "        locSet.append(rowSum)\n",
      "        rowNum +=1\n",
      "        \n",
      "    return locSet"
     ],
     "language": "python",
     "metadata": {},
     "outputs": [],
     "prompt_number": 3
    },
    {
     "cell_type": "code",
     "collapsed": false,
     "input": [
      "finalLocations = finals()\n",
      "#finalLocations = pd.read_json('F_L'+str(steps)+'.json')  #### Use this, if already added"
     ],
     "language": "python",
     "metadata": {},
     "outputs": [],
     "prompt_number": 3
    },
    {
     "cell_type": "code",
     "collapsed": false,
     "input": [
      "fll = pd.DataFrame(finalLocations)"
     ],
     "language": "python",
     "metadata": {},
     "outputs": [],
     "prompt_number": 60
    },
    {
     "cell_type": "code",
     "collapsed": false,
     "input": [
      "def distances():      ####   Compute final distances and output as JSON\n",
      "    distSet = []\n",
      "    rowNum = 0\n",
      "    \n",
      "    for trial in xrange(499999):\n",
      "        \n",
      "        val1 = fll.iloc[rowNum][0]\n",
      "        val2 = fll.iloc[rowNum][1]\n",
      "        \n",
      "        x = val1**2\n",
      "        y = val2**2\n",
      "        \n",
      "        \n",
      "        distSet.append(math.sqrt(x + y))\n",
      "        rowNum += 1\n",
      "        \n",
      "    return distSet"
     ],
     "language": "python",
     "metadata": {},
     "outputs": [],
     "prompt_number": 79
    },
    {
     "cell_type": "code",
     "collapsed": false,
     "input": [
      "finalDistances = distances()"
     ],
     "language": "python",
     "metadata": {},
     "outputs": [],
     "prompt_number": 83
    },
    {
     "cell_type": "code",
     "collapsed": false,
     "input": [
      "####         Save the data\n",
      "\n",
      "file2 = 'F_L'+ str(steps) + '.json'\n",
      "file3 = 'F_D'+ str(steps) + '.json'\n",
      "\n",
      "with open(file2, 'wb') as outfile:\n",
      "    json.dump(finalLocations, outfile)\n",
      "    \n",
      "with open(file3, 'wb') as outfile:\n",
      "    json.dump(finalDistances, outfile)"
     ],
     "language": "python",
     "metadata": {},
     "outputs": [],
     "prompt_number": 84
    },
    {
     "cell_type": "code",
     "collapsed": false,
     "input": [
      "F_L = pd.DataFrame(finalLocations, columns = list('xy'))"
     ],
     "language": "python",
     "metadata": {},
     "outputs": [],
     "prompt_number": 85
    },
    {
     "cell_type": "code",
     "collapsed": false,
     "input": [
      "####          We might have generated enough data...\n",
      "\n",
      "plt.hexbin(F_L['x'], F_L['y'], C = None, gridsize = 35, bins = 40, \n",
      "       xscale = 'linear', yscale = 'linear', marginals=False)\n",
      "plt.show()"
     ],
     "language": "python",
     "metadata": {},
     "outputs": [],
     "prompt_number": 11
    },
    {
     "cell_type": "code",
     "collapsed": false,
     "input": [
      "#####        It appears random.choice isn't so random.....\n",
      "\n",
      "plt.hist(F_L['y'], bins=10, range=None, normed=False, weights=None, \n",
      "         cumulative=False, bottom=None, histtype='bar', align='mid', orientation='vertical')\n",
      "plt.show()"
     ],
     "language": "python",
     "metadata": {},
     "outputs": [],
     "prompt_number": 12
    }
   ],
   "metadata": {}
  }
 ]
}